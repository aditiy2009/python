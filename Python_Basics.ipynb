{
  "nbformat": 4,
  "nbformat_minor": 0,
  "metadata": {
    "colab": {
      "name": "Python_Basics.ipynb",
      "version": "0.3.2",
      "provenance": [],
      "include_colab_link": true
    },
    "kernelspec": {
      "name": "python3",
      "display_name": "Python 3"
    }
  },
  "cells": [
    {
      "cell_type": "markdown",
      "metadata": {
        "id": "view-in-github",
        "colab_type": "text"
      },
      "source": [
        "<a href=\"https://colab.research.google.com/github/aditiy2009/python/blob/master/Python_Basics.ipynb\" target=\"_parent\"><img src=\"https://colab.research.google.com/assets/colab-badge.svg\" alt=\"Open In Colab\"/></a>"
      ]
    },
    {
      "metadata": {
        "id": "KW0uXrzxHV0Z",
        "colab_type": "text"
      },
      "cell_type": "markdown",
      "source": [
        "#Python Baisics"
      ]
    },
    {
      "metadata": {
        "id": "-1jWvrMyHQN6",
        "colab_type": "code",
        "colab": {
          "base_uri": "https://localhost:8080/",
          "height": 34
        },
        "outputId": "0815719e-f8a1-4367-e31d-145d38fd9a12"
      },
      "cell_type": "code",
      "source": [
        "print(\"Hello World\")"
      ],
      "execution_count": 4,
      "outputs": [
        {
          "output_type": "stream",
          "text": [
            "Hello World\n"
          ],
          "name": "stdout"
        }
      ]
    },
    {
      "metadata": {
        "id": "eQknn7IGHmHl",
        "colab_type": "code",
        "colab": {
          "base_uri": "https://localhost:8080/",
          "height": 34
        },
        "outputId": "c3653c70-5936-4ebe-ddfc-b51d41feba6b"
      },
      "cell_type": "code",
      "source": [
        "name=\"aditi\"\n",
        "print(name)"
      ],
      "execution_count": 5,
      "outputs": [
        {
          "output_type": "stream",
          "text": [
            "aditi\n"
          ],
          "name": "stdout"
        }
      ]
    },
    {
      "metadata": {
        "id": "AWjdp0NhHske",
        "colab_type": "code",
        "colab": {
          "base_uri": "https://localhost:8080/",
          "height": 34
        },
        "outputId": "9c17876e-2b1e-4f5e-edc9-9a615aede819"
      },
      "cell_type": "code",
      "source": [
        "name=\"Aditi\"\n",
        "surname=\"Yadav\"\n",
        "print(name+\" \"+surname)"
      ],
      "execution_count": 7,
      "outputs": [
        {
          "output_type": "stream",
          "text": [
            "Aditi Yadav\n"
          ],
          "name": "stdout"
        }
      ]
    },
    {
      "metadata": {
        "id": "A6X5HYNXHwlk",
        "colab_type": "text"
      },
      "cell_type": "markdown",
      "source": [
        "#Loops in Python"
      ]
    },
    {
      "metadata": {
        "id": "tfPKHOU4HzPg",
        "colab_type": "code",
        "colab": {
          "base_uri": "https://localhost:8080/",
          "height": 102
        },
        "outputId": "1afd2998-8b5c-4ce1-ad3e-3ba214c30794"
      },
      "cell_type": "code",
      "source": [
        "for i in range(5):\n",
        "  print(i)"
      ],
      "execution_count": 8,
      "outputs": [
        {
          "output_type": "stream",
          "text": [
            "0\n",
            "1\n",
            "2\n",
            "3\n",
            "4\n"
          ],
          "name": "stdout"
        }
      ]
    },
    {
      "metadata": {
        "id": "IWHnJcdnIK9c",
        "colab_type": "code",
        "colab": {
          "base_uri": "https://localhost:8080/",
          "height": 187
        },
        "outputId": "658d0232-6751-4ad5-9710-b77d206f0649"
      },
      "cell_type": "code",
      "source": [
        "sum_of_i=0\n",
        "for i in range(10):\n",
        "  sum_of_i+=i\n",
        "  print(sum_of_i)"
      ],
      "execution_count": 24,
      "outputs": [
        {
          "output_type": "stream",
          "text": [
            "0\n",
            "1\n",
            "3\n",
            "6\n",
            "10\n",
            "15\n",
            "21\n",
            "28\n",
            "36\n",
            "45\n"
          ],
          "name": "stdout"
        }
      ]
    },
    {
      "metadata": {
        "id": "egeSLbQ0IN_v",
        "colab_type": "code",
        "colab": {
          "base_uri": "https://localhost:8080/",
          "height": 34
        },
        "outputId": "c2645c3e-c36e-406d-ce83-141a26d28350"
      },
      "cell_type": "code",
      "source": [
        "print(sum_of_i)"
      ],
      "execution_count": 23,
      "outputs": [
        {
          "output_type": "stream",
          "text": [
            "45\n"
          ],
          "name": "stdout"
        }
      ]
    },
    {
      "metadata": {
        "id": "49VGCPyyJIh6",
        "colab_type": "code",
        "colab": {
          "base_uri": "https://localhost:8080/",
          "height": 102
        },
        "outputId": "c45bad0f-f3d5-42a4-b8e4-84e4aab0bcb7"
      },
      "cell_type": "code",
      "source": [
        "i=0\n",
        "f=5\n",
        "sum_=0\n",
        "while i<f:\n",
        "  sum_ =sum_ +f\n",
        "  print(sum_)\n",
        "  i+=1"
      ],
      "execution_count": 26,
      "outputs": [
        {
          "output_type": "stream",
          "text": [
            "5\n",
            "10\n",
            "15\n",
            "20\n",
            "25\n"
          ],
          "name": "stdout"
        }
      ]
    },
    {
      "metadata": {
        "id": "EezVrlg1JqPv",
        "colab_type": "code",
        "colab": {
          "base_uri": "https://localhost:8080/",
          "height": 34
        },
        "outputId": "d9a13e52-edbb-4351-bc74-6038ac351dc9"
      },
      "cell_type": "code",
      "source": [
        "print(sum_)"
      ],
      "execution_count": 27,
      "outputs": [
        {
          "output_type": "stream",
          "text": [
            "25\n"
          ],
          "name": "stdout"
        }
      ]
    },
    {
      "metadata": {
        "id": "I6ycxfC7Jwok",
        "colab_type": "code",
        "colab": {
          "base_uri": "https://localhost:8080/",
          "height": 102
        },
        "outputId": "d4194c2f-fb69-4bb2-9e97-2ed83369234f"
      },
      "cell_type": "code",
      "source": [
        "l=[2,4,6,8,10]\n",
        "\n",
        "for v in l:\n",
        "  sum_+=v\n",
        "  print(sum_)"
      ],
      "execution_count": 28,
      "outputs": [
        {
          "output_type": "stream",
          "text": [
            "27\n",
            "31\n",
            "37\n",
            "45\n",
            "55\n"
          ],
          "name": "stdout"
        }
      ]
    },
    {
      "metadata": {
        "id": "vRL_Re0wOzO-",
        "colab_type": "code",
        "colab": {
          "base_uri": "https://localhost:8080/",
          "height": 34
        },
        "outputId": "4a8a7480-72a7-4503-a9b6-1b3610b0c068"
      },
      "cell_type": "code",
      "source": [
        "print(sum_)"
      ],
      "execution_count": 29,
      "outputs": [
        {
          "output_type": "stream",
          "text": [
            "55\n"
          ],
          "name": "stdout"
        }
      ]
    },
    {
      "metadata": {
        "id": "M4iEc7ISO1eg",
        "colab_type": "code",
        "colab": {
          "base_uri": "https://localhost:8080/",
          "height": 34
        },
        "outputId": "2e883ea9-1108-45b4-8c58-8963c65b405e"
      },
      "cell_type": "code",
      "source": [
        "a=9.08\n",
        "b=9.09\n",
        "c=8\n",
        "\n",
        "if a>b and a>c:\n",
        "  print(\"a is largest of all\")\n",
        "elif b>a and b>c:\n",
        "  print(\"B is largest of all\")\n",
        "else:\n",
        "  print(\"C is the largest of all\")"
      ],
      "execution_count": 32,
      "outputs": [
        {
          "output_type": "stream",
          "text": [
            "B is largest of all\n"
          ],
          "name": "stdout"
        }
      ]
    },
    {
      "metadata": {
        "id": "7p5c3s5QVu0Q",
        "colab_type": "code",
        "colab": {
          "base_uri": "https://localhost:8080/",
          "height": 68
        },
        "outputId": "dbc4ddde-483c-4d6c-c002-ef88b98b7ed0"
      },
      "cell_type": "code",
      "source": [
        "print(\"Enter your total obtained marks\")\n",
        "marks=input()\n",
        "total=500\n",
        "percent= (int(marks)/total)*100\n",
        "\n",
        "print(\"Your percentage is : \",percent)"
      ],
      "execution_count": 35,
      "outputs": [
        {
          "output_type": "stream",
          "text": [
            "Enter your total obtained marks\n",
            "345\n",
            "Your percentage is :  69.0\n"
          ],
          "name": "stdout"
        }
      ]
    },
    {
      "metadata": {
        "id": "GMNPdqQeXj4C",
        "colab_type": "text"
      },
      "cell_type": "markdown",
      "source": [
        "#Coffee and Tea Vending machine"
      ]
    },
    {
      "metadata": {
        "id": "VQ-_qCw3WOkv",
        "colab_type": "code",
        "colab": {
          "base_uri": "https://localhost:8080/",
          "height": 221
        },
        "outputId": "022aad50-d21a-4688-c55d-a8d9c6f44603"
      },
      "cell_type": "code",
      "source": [
        "  \n",
        "#If tea is selected \n",
        "def tea():\n",
        "    print(\"Please! enter 5 rupees in me.\")\n",
        "    coin=int(input())\n",
        "    if coin==5:\n",
        "      print(\"Preparing your tea...\")\n",
        "      print(\"Tea is ready\")\n",
        "      print(\"have a good day:)\")\n",
        "      print(\"Do you want to more(Y/N)?\")\n",
        "      ans=input()\n",
        "      if ans=='Y':\n",
        "        main()\n",
        "      else:\n",
        "        print(\"Byee....\")\n",
        "    else:\n",
        "      print(\"Sorry I didn't get it:(\")\n",
        "      print(\"Want to try again(Y/N)?\")\n",
        "      ans=input()\n",
        "      if ans=='Y':\n",
        "        main()\n",
        "      else:\n",
        "        print(\"Byee....\")\n",
        " \n",
        "\n",
        "\n",
        "#If coffee gets selected\n",
        "def coffee():\n",
        "    print(\"Please! enter 10 rupees in me.\")\n",
        "    rupee=int(input())\n",
        "    if rupee==10:\n",
        "      print(\"Preparing your Coffee...\")\n",
        "      print(\"Coffee is ready\")\n",
        "      print(\"have a good day:)\")\n",
        "      print(\"Do you want to more(Y/N)?\")\n",
        "      ans=input()\n",
        "      if ans=='Y':\n",
        "        main()\n",
        "      else:\n",
        "        print(\"Byee....\")\n",
        "    else:\n",
        "      print(\"Sorry I didn't get it:(\")\n",
        "      print(\"Want to try again(Y/N)?\")\n",
        "      ans=input()\n",
        "      if ans=='Y':\n",
        "        main()\n",
        "      else:\n",
        "        print(\"Byee....\")\n",
        "        \n",
        "        \n",
        "#the main control of machine      \n",
        "def main():\n",
        "    i=10\n",
        "    if i>0:\n",
        "      print(\"what you want coffee or tea?\")\n",
        "      print(\"1. Tea\",\"\\n2. Coffee\")\n",
        "      c=int(input())\n",
        "      if c==1:\n",
        "        tea()\n",
        "      else:\n",
        "        coffee()\n",
        "    else:\n",
        "      print(\"I am out of service currently :(\")\n",
        "    i=i-1\n",
        "main()"
      ],
      "execution_count": 56,
      "outputs": [
        {
          "output_type": "stream",
          "text": [
            "what you want coffee or tea?\n",
            "1. Tea \n",
            "2. Coffee\n",
            "1\n",
            "Please! enter 5 rupees in me.\n",
            "5\n",
            "Preparing your tea...\n",
            "Tea is ready\n",
            "have a good day:)\n",
            "Do you want to more(Y/N)?\n",
            "N\n",
            "Byee....\n"
          ],
          "name": "stdout"
        }
      ]
    },
    {
      "metadata": {
        "id": "NMeDGxJIoZpi",
        "colab_type": "text"
      },
      "cell_type": "markdown",
      "source": [
        "#Percentage Calculator"
      ]
    },
    {
      "metadata": {
        "id": "WUvU_L7Noefw",
        "colab_type": "code",
        "colab": {
          "base_uri": "https://localhost:8080/",
          "height": 187
        },
        "outputId": "bf704868-94ed-4d6a-c78d-ac0b6605bc27"
      },
      "cell_type": "code",
      "source": [
        "\"\"\"This is a percentage calculator enter your subjects and respective marks in this\"\"\"\n",
        "\n",
        "\n",
        "#get marks and subject\n",
        "def input_taking():\n",
        "  c=[]\n",
        "  print(\"Enter the number of subjects : \")\n",
        "  count=int(input())\n",
        "\n",
        "  for i in range(1,count+1):\n",
        "    marks=int(input(\"Enter the marks of subject : \"))\n",
        "    c.append(marks)\n",
        "  \n",
        "  print(\"You entered marks as:\",c)\n",
        "  obtained_marks=sum(c)\n",
        "  print(\"You obtained :\",obtained_marks)\n",
        "#getting total marks and calculating percentage  \n",
        " \n",
        "  print(\"Enter the total marks of exam(e.g 500)\")\n",
        "  total_marks=int(input())\n",
        "  percent=(obtained_marks/total_marks)*100\n",
        "  print(\"Congrats you got\",percent,\"percentage\")\n",
        "\n",
        " \n",
        "input_taking()"
      ],
      "execution_count": 94,
      "outputs": [
        {
          "output_type": "stream",
          "text": [
            "Enter the number of subjects : \n",
            "3\n",
            "Enter the marks of subject : 12\n",
            "Enter the marks of subject : 14\n",
            "Enter the marks of subject : 15\n",
            "You entered marks as: [12, 14, 15]\n",
            "You obtained : 41\n",
            "Enter the total marks of exam(e.g 500)\n",
            "60\n",
            "Congrats you got 68.33333333333333 percentage\n"
          ],
          "name": "stdout"
        }
      ]
    },
    {
      "metadata": {
        "id": "LZlEIFUABKvk",
        "colab_type": "code",
        "colab": {
          "base_uri": "https://localhost:8080/",
          "height": 34
        },
        "outputId": "12895cb7-8c2e-45f7-d519-d5004295df08"
      },
      "cell_type": "code",
      "source": [
        "type(c)"
      ],
      "execution_count": 84,
      "outputs": [
        {
          "output_type": "execute_result",
          "data": {
            "text/plain": [
              "list"
            ]
          },
          "metadata": {
            "tags": []
          },
          "execution_count": 84
        }
      ]
    },
    {
      "metadata": {
        "id": "Pr_BYebvD88J",
        "colab_type": "code",
        "colab": {}
      },
      "cell_type": "code",
      "source": [
        ""
      ],
      "execution_count": 0,
      "outputs": []
    },
    {
      "metadata": {
        "id": "5ZJyO8TMPbbq",
        "colab_type": "text"
      },
      "cell_type": "markdown",
      "source": [
        ""
      ]
    },
    {
      "metadata": {
        "id": "tgPTK9h9Pgkk",
        "colab_type": "text"
      },
      "cell_type": "markdown",
      "source": [
        "#BMI"
      ]
    },
    {
      "metadata": {
        "id": "slPj_kU_QECU",
        "colab_type": "code",
        "colab": {}
      },
      "cell_type": "code",
      "source": [
        "\"\"\"This is an BMI calculator to help you know \"\"\""
      ],
      "execution_count": 0,
      "outputs": []
    }
  ]
}