{
  "nbformat": 4,
  "nbformat_minor": 0,
  "metadata": {
    "colab": {
      "name": "Updated_predictor.ipynb",
      "version": "0.3.2",
      "provenance": [],
      "include_colab_link": true
    },
    "kernelspec": {
      "name": "python3",
      "display_name": "Python 3"
    }
  },
  "cells": [
    {
      "cell_type": "markdown",
      "metadata": {
        "id": "view-in-github",
        "colab_type": "text"
      },
      "source": [
        "<a href=\"https://colab.research.google.com/github/aditiy2009/python/blob/master/Updated_predictor.ipynb\" target=\"_parent\"><img src=\"https://colab.research.google.com/assets/colab-badge.svg\" alt=\"Open In Colab\"/></a>"
      ]
    },
    {
      "metadata": {
        "id": "6Sg6gq0Su_fP",
        "colab_type": "code",
        "outputId": "1f55c811-4557-44a8-f584-9281acc0e1ba",
        "colab": {
          "base_uri": "https://localhost:8080/",
          "height": 187
        }
      },
      "cell_type": "code",
      "source": [
        "\"\"\"This is updated predictor which will take input of marks and total marks will predict your grade on basis of percentage\"\"\"\n",
        "\n",
        "#Take input of marks from user\n",
        "def marks_input():\n",
        "  c=[]\n",
        "  \n",
        "  print(\"Enter no. of subjects :\")\n",
        "  count=int(input())\n",
        "  \n",
        "  for i in range(count):\n",
        "    marks=int(input(\"Enter marks of subject\"))\n",
        "    c.append(marks)\n",
        "    \n",
        "  print(\"You have enterd \",c)\n",
        "  obtained_marks=sum(c)\n",
        "  print(\"Total marks obtained are : \",obtained_marks)\n",
        "  percentage(obtained_marks)\n",
        "  \n",
        "#calculate percentage\n",
        "def percentage(obtained_marks):\n",
        "  \n",
        "  total_marks=int(input(\"Enter your total marks\"))\n",
        "  percentage=(obtained_marks/total_marks)*100\n",
        "  predictor(percentage)\n",
        "  \n",
        "#predictor   \n",
        "def predictor(percentage):\n",
        "  \n",
        "  if percentage >85.0:\n",
        "    print(\"you have scored A\")\n",
        "  elif percentage > 65.0 and percentage < 85.0:\n",
        "    print(\"you have scored B\")\n",
        "  elif percentage > 55.0 and percentage < 65.0:\n",
        "    print(\"you have scored C\")\n",
        "  elif percentage >45 and percentage < 55.0:\n",
        "    print(\"you have just passed \")\n",
        "  else:\n",
        "    print(\"You have FAILED! Work harder and harder to pass.\")\n",
        "    \n",
        "marks_input()"
      ],
      "execution_count": 2,
      "outputs": [
        {
          "output_type": "stream",
          "text": [
            "Enter no. of subjects :\n",
            "4\n",
            "Enter marks of subject20\n",
            "Enter marks of subject12\n",
            "Enter marks of subject19\n",
            "Enter marks of subject23\n",
            "You have enterd  [20, 12, 19, 23]\n",
            "Total marks obtained are :  74\n",
            "Enter your total marks100\n",
            "you have scored B\n"
          ],
          "name": "stdout"
        }
      ]
    },
    {
      "metadata": {
        "id": "kkWPX8Sk2kQi",
        "colab_type": "code",
        "colab": {}
      },
      "cell_type": "code",
      "source": [
        ""
      ],
      "execution_count": 0,
      "outputs": []
    }
  ]
}