{
  "nbformat": 4,
  "nbformat_minor": 0,
  "metadata": {
    "colab": {
      "name": "predictor.ipynb",
      "version": "0.3.2",
      "provenance": [],
      "collapsed_sections": [],
      "toc_visible": true,
      "include_colab_link": true
    },
    "kernelspec": {
      "name": "python3",
      "display_name": "Python 3"
    }
  },
  "cells": [
    {
      "cell_type": "markdown",
      "metadata": {
        "id": "view-in-github",
        "colab_type": "text"
      },
      "source": [
        "<a href=\"https://colab.research.google.com/github/aditiy2009/python/blob/master/predictor.ipynb\" target=\"_parent\"><img src=\"https://colab.research.google.com/assets/colab-badge.svg\" alt=\"Open In Colab\"/></a>"
      ]
    },
    {
      "metadata": {
        "id": "LbEHTaESVcBZ",
        "colab_type": "text"
      },
      "cell_type": "markdown",
      "source": [
        "#Grade Prediction"
      ]
    },
    {
      "metadata": {
        "id": "i7CsQGhKUJdp",
        "colab_type": "code",
        "colab": {
          "base_uri": "https://localhost:8080/",
          "height": 68
        },
        "outputId": "26d39df9-9e96-402c-ab88-cef308c01ca1"
      },
      "cell_type": "code",
      "source": [
        "\"\"\"This is a prediction system or expert system which predicts grade using marks input\"\"\"\n",
        "\n",
        "def marks_input():\n",
        "  print(\"Enter your total obtained marks\")\n",
        "  marks=int(input())\n",
        "  predictor(marks)\n",
        "\n",
        "def predictor(marks):\n",
        "  \n",
        "  if marks > 400:\n",
        "    print(\"You have scored A grade\")\n",
        "  elif marks > 300:\n",
        "    print(\"You have scored B grade\")\n",
        "  elif marks > 200:\n",
        "    print(\"You have scored C grade\")\n",
        "  elif marks >250:\n",
        "    print(\"You have scored D grade\")\n",
        "  else:\n",
        "    print(\"You are FAIL! Work harder and harder to improve your score\")\n",
        "\n",
        "marks_input()"
      ],
      "execution_count": 3,
      "outputs": [
        {
          "output_type": "stream",
          "text": [
            "Enter your total obtained marks\n",
            "230\n",
            "You have scored C grade\n"
          ],
          "name": "stdout"
        }
      ]
    },
    {
      "metadata": {
        "id": "z4Zvj28NYQzT",
        "colab_type": "code",
        "colab": {}
      },
      "cell_type": "code",
      "source": [
        ""
      ],
      "execution_count": 0,
      "outputs": []
    }
  ]
}